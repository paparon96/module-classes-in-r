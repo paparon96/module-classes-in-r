{
 "cells": [
  {
   "cell_type": "code",
   "execution_count": 1,
   "metadata": {
    "autoscroll": false,
    "ein.hycell": false,
    "ein.tags": "worksheet-0",
    "slideshow": {
     "slide_type": "-"
    }
   },
   "outputs": [],
   "source": [
    "library(magrittr)\n",
    "library(MASS)"
   ]
  },
  {
   "cell_type": "markdown",
   "metadata": {
    "ein.tags": "worksheet-0",
    "slideshow": {
     "slide_type": "-"
    }
   },
   "source": [
    "## Refactoring\n",
    "\n",
    "Refactoring code is a very important concept in programming. To \"refactor\" means to change the implementation of some piece of code, without changing the functionality. \n",
    "\n",
    "If your goal with writing code is simply to \"get something to work\" (once), then refactoring is not useful. If, however, your goal is to write elegant code which can be used reliable, extended, and modified, then you will always need to refactor! "
   ]
  },
  {
   "cell_type": "code",
   "execution_count": null,
   "metadata": {
    "autoscroll": false,
    "ein.hycell": false,
    "ein.tags": "worksheet-0",
    "slideshow": {
     "slide_type": "-"
    }
   },
   "outputs": [],
   "source": [
    "# We will refactor the code from the \"Functions in R\" lecture. \n",
    "\n",
    "# Using the ideas from the slides, make \"generate_data\" a polymorphic function.\n",
    "# It should operate on two classes: \"univariate_params\" and \"multivariate_params\"\n",
    "# and two separate \"methods\" should be implemented for each of the classes "
   ]
  },
  {
   "cell_type": "code",
   "execution_count": null,
   "metadata": {
    "autoscroll": false,
    "ein.hycell": false,
    "ein.tags": "worksheet-0",
    "slideshow": {
     "slide_type": "slide"
    }
   },
   "outputs": [],
   "source": [
    "# The implementation of the class is up to you! So write the params class to\n",
    "# match your design. \n",
    "\n",
    "# beta should be c(1,2,1)\n",
    "# mean of X's should be c(0,0,0)\n",
    "# sd of X's should be c(.2,.5,.3)\n",
    "# noise sd should be .5\n",
    "\n",
    "params <- list(???)\n",
    "class(params) <- \"multivariate_params\""
   ]
  },
  {
   "cell_type": "code",
   "execution_count": null,
   "metadata": {
    "autoscroll": false,
    "ein.hycell": false,
    "ein.tags": "worksheet-0",
    "slideshow": {
     "slide_type": "-"
    }
   },
   "outputs": [],
   "source": [
    "a <- avg_simulations(1000, 20, params)\n",
    "stopifnot(round(a, 1) == .9)"
   ]
  },
  {
   "cell_type": "code",
   "execution_count": null,
   "metadata": {
    "autoscroll": false,
    "ein.hycell": false,
    "ein.tags": "worksheet-0",
    "slideshow": {
     "slide_type": "-"
    }
   },
   "outputs": [],
   "source": [
    "a <- avg_simulations(1000, 500, params)\n",
    "stopifnot(a > .92)"
   ]
  },
  {
   "cell_type": "code",
   "execution_count": null,
   "metadata": {
    "autoscroll": false,
    "ein.hycell": false,
    "ein.tags": "worksheet-0",
    "slideshow": {
     "slide_type": "-"
    }
   },
   "outputs": [],
   "source": [
    "# BONUS\n",
    "\n",
    "# The calc_coef and calc_se functions, in their multivariate form, are \n",
    "# naturally a generalization, and work for univariate data do. \n",
    "\n",
    "# But let's pretend they're not. \n",
    "\n",
    "# Write them as polymorphic functions, such that when you simulation gets called\n",
    "# with univariate data, the (from-the-slides) univariate formula gets called, \n",
    "# and the (from-your-exersizes) multivariate formula gets called when \n",
    "# multivariate parameters are given to the simulations. \n",
    "\n",
    "# Note: be creative in your design! Add more classes if you think it helps!\n",
    "# Think about which functions you want to be class-agnostic and which to be\n",
    "# class-aware! "
   ]
  },
  {
   "cell_type": "code",
   "execution_count": 1,
   "metadata": {},
   "outputs": [
    {
     "data": {
      "image/png": "[encoded data removed]",
      "text/plain": [
       "Plot with title “Histogram of a”"
      ]
     },
     "metadata": {},
     "output_type": "display_data"
    }
   ],
   "source": [
    "a=runif(100)\n",
    "\n",
    "hist(a)"
   ]
  },
  {
   "cell_type": "code",
   "execution_count": null,
   "metadata": {},
   "outputs": [],
   "source": []
  }
 ],
 "metadata": {
  "kernelspec": {
   "display_name": "R",
   "language": "R",
   "name": "ir"
  },
  "language_info": {
   "codemirror_mode": "r",
   "file_extension": ".r",
   "mimetype": "text/x-r-source",
   "name": "R",
   "pygments_lexer": "r",
   "version": "3.6.1"
  },
  "name": "Untitled.ipynb"
 },
 "nbformat": 4,
 "nbformat_minor": 2
}
